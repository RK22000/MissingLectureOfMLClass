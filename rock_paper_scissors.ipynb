{
 "cells": [
  {
   "cell_type": "code",
   "execution_count": 1,
   "metadata": {},
   "outputs": [
    {
     "data": {
      "text/plain": [
       "'2.16.1'"
      ]
     },
     "execution_count": 1,
     "metadata": {},
     "output_type": "execute_result"
    }
   ],
   "source": [
    "import tensorflow as tf\n",
    "tf.version.VERSION"
   ]
  },
  {
   "cell_type": "markdown",
   "metadata": {
    "jp-MarkdownHeadingCollapsed": true
   },
   "source": [
    "# Making the TF model"
   ]
  },
  {
   "cell_type": "code",
   "execution_count": null,
   "metadata": {},
   "outputs": [],
   "source": [
    "import tensorflow_datasets as tfds\n",
    "'rock_paper_scissors' in tfds.list_builders()"
   ]
  },
  {
   "cell_type": "code",
   "execution_count": null,
   "metadata": {},
   "outputs": [],
   "source": [
    "mapper = lambda i: (i['image'], tf.one_hot(i['label'], 3))\n",
    "train_ds = tfds.load(\"rock_paper_scissors\", split='train', shuffle_files=True).map(mapper)\n",
    "test_ds = tfds.load(\"rock_paper_scissors\", split='test', shuffle_files=True).map(mapper)"
   ]
  },
  {
   "cell_type": "code",
   "execution_count": null,
   "metadata": {},
   "outputs": [],
   "source": [
    "import ipywidgets as w\n",
    "import seaborn as sns\n",
    "import pandas as pd\n",
    "import matplotlib.pyplot as plt\n",
    "import numpy as np\n",
    "%matplotlib widget\n",
    "\n",
    "def display_ds(ds_t, model=None, loss_func=None):\n",
    "    if model is not None and loss_func is not None:\n",
    "        x, y = list(zip(*ds_t))\n",
    "        # print(len(x[0]))\n",
    "        x = np.array(x)\n",
    "        y = np.array(y)\n",
    "        y_ = model.predict(x)\n",
    "        losses = loss_func(y,y_)\n",
    "        # print(losses)\n",
    "        e_ds_t = sorted(enumerate(ds_t), key=lambda i: losses[i[0]])\n",
    "        e, ds_t = list(zip(*e_ds_t))\n",
    "\n",
    "    s_t = w.IntSlider(value=1, min=0, max=len(ds_t)-1, layout=w.Layout(width='auto'))\n",
    "    df = pd.DataFrame({'rock':0.0, 'paper':0.0, 'scissors':0.0}, index=[0])\n",
    "    fig, (ax0, ax1) = plt.subplots(1, 2, figsize=(10,5))\n",
    "    def on_slider_change(change):\n",
    "        idx = change['new']\n",
    "        i = ds_t[idx][0]\n",
    "        truth = ds_t[idx][1]\n",
    "        preds = ds_t[idx][1] if model is None else tf.unstack(model(tf.stack([i])))[0]\n",
    "        loss = None if loss_func is None else loss_func(truth, preds).numpy()\n",
    "        df.iloc[0] = preds.numpy()\n",
    "        ax0.clear()\n",
    "        ax0.imshow(i.numpy())\n",
    "        pr = ['rock', 'paper', 'scissors'][tf.argmax(preds).numpy()]\n",
    "        tr = ['rock', 'paper', 'scissors'][tf.argmax(truth).numpy()]\n",
    "        title = f\"Prediction: {pr}\\nTruth: {tr}\"\n",
    "        title += \"\" if loss is None else \"\\nLoss: \"+\"%.3g\"%loss\n",
    "        ax0.set_title(title)\n",
    "        ax1.clear()\n",
    "        sns.barplot(df, ax=ax1)\n",
    "        # title = ['rock', 'paper', 'scissors'][tf.argmax(truth).numpy()]\n",
    "        ax1.set_title(title)\n",
    "    ax0.set_title(\"\\n\\n\\n\")\n",
    "    ax1.set_title(\"\\n\\n\\n\")\n",
    "    fig.tight_layout()\n",
    "\n",
    "    s_t.observe(on_slider_change, 'value')\n",
    "    s_t.value=0\n",
    "    return w.VBox([s_t], layout=w.Layout(width='50%'))"
   ]
  },
  {
   "cell_type": "code",
   "execution_count": null,
   "metadata": {},
   "outputs": [],
   "source": [
    "display_ds(list(train_ds))"
   ]
  },
  {
   "cell_type": "code",
   "execution_count": null,
   "metadata": {},
   "outputs": [],
   "source": [
    "from tensorflow import keras\n",
    "from keras import layers\n",
    "IMG_SIZE = 128\n",
    "class ImageLayers(tf.keras.Model):\n",
    "    def call(self, input_tensor, training=False):\n",
    "        img = tf.image.random_hue(input_tensor, 0.08)\n",
    "        img = tf.image.random_saturation(img, 0.7, 1.3)\n",
    "        inv = tf.math.multiply(img, -1)\n",
    "        inv = tf.math.add(inv, 255)\n",
    "        idx = tf.sign(tf.random.uniform([], -1, 1))/2+0.5\n",
    "        # idx = 0\n",
    "        idn = 1-idx\n",
    "        return tf.math.add(\n",
    "            tf.math.multiply(img, idx),\n",
    "            tf.math.multiply(inv, idn)\n",
    "        )\n",
    "        # return tf.constant([img, inv])[idx]\n",
    "data_aug = tf.keras.Sequential([\n",
    "    # layers.RandomFlip(),\n",
    "    layers.RandomZoom(height_factor=(0.3, 0.7), width_factor=(0.3,0.5), fill_mode='nearest'),\n",
    "    layers.RandomRotation(0.5, fill_mode='nearest'),\n",
    "    layers.RandomFlip(),\n",
    "    # layers.RandomTranslation(0.4, 0.4, fill_mode='nearest'),\n",
    "    layers.RandomBrightness(0.05),\n",
    "    layers.RandomContrast((0.8, 1)),\n",
    "    ImageLayers()\n",
    "])\n",
    "pre_proc = keras.Sequential([\n",
    "    layers.Resizing(IMG_SIZE, IMG_SIZE),\n",
    "    layers.Rescaling(1./255)\n",
    "])\n",
    "aug_mapper = lambda i,j: (data_aug(i) , j)\n",
    "pre_mapper = lambda i,j: (pre_proc(i), j)\n",
    "display_ds(list(\n",
    "    train_ds.take(100).map(aug_mapper).map(pre_mapper)#.map(lambda i,j: (tf.cast(tf.image.resize(i, (32,32)), tf.uint8), j))\n",
    "))\n",
    "# test_ds.map(lambda i,j: (data_aug(i).as_dtype(tf.uint8), j))"
   ]
  },
  {
   "cell_type": "code",
   "execution_count": null,
   "metadata": {},
   "outputs": [],
   "source": [
    "augmented_ds = train_ds.map(aug_mapper, num_parallel_calls=tf.data.AUTOTUNE).map(pre_mapper, num_parallel_calls=tf.data.AUTOTUNE).cache().batch(128)\n",
    "unaugmented_ds = train_ds.map(pre_mapper, num_parallel_calls=tf.data.AUTOTUNE).cache().batch(128)\n",
    "validation_data = test_ds.map(pre_mapper).batch(32)"
   ]
  },
  {
   "cell_type": "code",
   "execution_count": null,
   "metadata": {},
   "outputs": [],
   "source": [
    "import numpy as np\n",
    "element = unaugmented_ds.take(1).get_single_element()[0]\n",
    "print(element.shape, np.min(element.numpy()), np.max(element.numpy()))\n",
    "element = validation_data.take(1).get_single_element()[0]\n",
    "print(element.shape, np.min(element.numpy()), np.max(element.numpy()))"
   ]
  },
  {
   "cell_type": "code",
   "execution_count": null,
   "metadata": {},
   "outputs": [],
   "source": [
    "from tensorflow import keras\n",
    "from keras import layers\n",
    "\n",
    "# @keras.saving.register_keras_serializable()\n",
    "class AlwaysDropout(layers.Dropout):\n",
    "    def call(self, inputs, training=False):\n",
    "        return super().call(inputs, True)\n",
    "\n",
    "model = tf.keras.Sequential(layers= [\n",
    "    layers.Input((IMG_SIZE, IMG_SIZE,3)),\n",
    "\n",
    "    layers.Conv2D(64, 3, activation='relu'),\n",
    "    layers.MaxPool2D(2, 2),\n",
    "\n",
    "    layers.Conv2D(64, 3, activation='relu'),\n",
    "    layers.MaxPool2D(2, 2),\n",
    "\n",
    "    layers.Conv2D(128, 3, activation='relu'),\n",
    "    layers.MaxPool2D(2, 2),\n",
    "\n",
    "    layers.Flatten(),\n",
    "    layers.Dropout(0.5),\n",
    "\n",
    "    layers.Dense(512, activation='relu'),\n",
    "    layers.Dense(512, activation='relu'),\n",
    "    layers.Dropout(0.1),\n",
    "    # AlwaysDropout(0.25),\n",
    "    layers.Dense(3, activation='softmax')],\n",
    "    name = \"RPS_recognition_model\")\n",
    "model.summary()"
   ]
  },
  {
   "cell_type": "code",
   "execution_count": null,
   "metadata": {},
   "outputs": [],
   "source": [
    "fitting_ds = augmented_ds\n",
    "model.compile(\"adam\", tf.keras.losses.CategoricalFocalCrossentropy(), metrics=['accuracy'])\n",
    "hist = model.fit(\n",
    "    fitting_ds,\n",
    "    validation_data=validation_data,\n",
    "    callbacks=[tf.keras.callbacks.CSVLogger('training.csv'), tf.keras.callbacks.TensorBoard(\"logdir\"), tf.keras.callbacks.EarlyStopping(monitor='val_loss', patience=5, min_delta=0)],\n",
    "    epochs = 100\n",
    ")"
   ]
  },
  {
   "cell_type": "code",
   "execution_count": null,
   "metadata": {},
   "outputs": [],
   "source": [
    "import pandas as pd\n",
    "import seaborn as sns\n",
    "\n",
    "df = pd.read_csv(\"training.csv\", index_col='epoch')\n",
    "fig, (ax1, ax2) = plt.subplots(1, 2, figsize=(10,4))\n",
    "sns.lineplot(df[[c for c in df.columns if 'loss' in c]], ax=ax1)\n",
    "sns.lineplot(df[[c for c in df.columns if 'accuracy' in c]], ax=ax2)\n",
    "ax2.set_ylim((0,1))\n",
    "fig.tight_layout()"
   ]
  },
  {
   "cell_type": "code",
   "execution_count": null,
   "metadata": {},
   "outputs": [],
   "source": [
    "display_ds(list(validation_data.unbatch()), model, tf.keras.losses.CategoricalCrossentropy(reduction=None))"
   ]
  },
  {
   "cell_type": "code",
   "execution_count": null,
   "metadata": {},
   "outputs": [],
   "source": [
    "display_ds(list(fitting_ds.unbatch()), model, tf.keras.losses.CategoricalCrossentropy(reduction=None))"
   ]
  },
  {
   "cell_type": "code",
   "execution_count": null,
   "metadata": {},
   "outputs": [],
   "source": [
    "def make_conf_matrix(list_ds):\n",
    "    x, y = zip(*list_ds)\n",
    "    x = tf.stack(x)\n",
    "    y = tf.stack(y)\n",
    "    y = tf.argmax(y, 1)\n",
    "    y_ = model.predict(x)\n",
    "    y_ = tf.argmax(y_, 1)\n",
    "    from sklearn.metrics import ConfusionMatrixDisplay\n",
    "    ConfusionMatrixDisplay.from_predictions(y, y_, display_labels=['rock','paper', 'scissors'])\n",
    "make_conf_matrix(list(validation_data.unbatch()))"
   ]
  },
  {
   "cell_type": "code",
   "execution_count": null,
   "metadata": {},
   "outputs": [],
   "source": [
    "len(train_ds), len(test_ds)"
   ]
  },
  {
   "cell_type": "code",
   "execution_count": null,
   "metadata": {},
   "outputs": [],
   "source": []
  },
  {
   "cell_type": "code",
   "execution_count": null,
   "metadata": {},
   "outputs": [],
   "source": [
    "model.save('rps1.keras')"
   ]
  },
  {
   "cell_type": "markdown",
   "metadata": {},
   "source": [
    "# Using the TF Model"
   ]
  },
  {
   "cell_type": "code",
   "execution_count": 2,
   "metadata": {},
   "outputs": [
    {
     "data": {
      "text/html": [
       "<pre style=\"white-space:pre;overflow-x:auto;line-height:normal;font-family:Menlo,'DejaVu Sans Mono',consolas,'Courier New',monospace\"><span style=\"font-weight: bold\">Model: \"RPS_recognition_model\"</span>\n",
       "</pre>\n"
      ],
      "text/plain": [
       "\u001b[1mModel: \"RPS_recognition_model\"\u001b[0m\n"
      ]
     },
     "metadata": {},
     "output_type": "display_data"
    },
    {
     "data": {
      "text/html": [
       "<pre style=\"white-space:pre;overflow-x:auto;line-height:normal;font-family:Menlo,'DejaVu Sans Mono',consolas,'Courier New',monospace\">┏━━━━━━━━━━━━━━━━━━━━━━━━━━━━━━━━━━━━━━┳━━━━━━━━━━━━━━━━━━━━━━━━━━━━━┳━━━━━━━━━━━━━━━━━┓\n",
       "┃<span style=\"font-weight: bold\"> Layer (type)                         </span>┃<span style=\"font-weight: bold\"> Output Shape                </span>┃<span style=\"font-weight: bold\">         Param # </span>┃\n",
       "┡━━━━━━━━━━━━━━━━━━━━━━━━━━━━━━━━━━━━━━╇━━━━━━━━━━━━━━━━━━━━━━━━━━━━━╇━━━━━━━━━━━━━━━━━┩\n",
       "│ conv2d_42 (<span style=\"color: #0087ff; text-decoration-color: #0087ff\">Conv2D</span>)                   │ (<span style=\"color: #00d7ff; text-decoration-color: #00d7ff\">None</span>, <span style=\"color: #00af00; text-decoration-color: #00af00\">126</span>, <span style=\"color: #00af00; text-decoration-color: #00af00\">126</span>, <span style=\"color: #00af00; text-decoration-color: #00af00\">64</span>)        │           <span style=\"color: #00af00; text-decoration-color: #00af00\">1,792</span> │\n",
       "├──────────────────────────────────────┼─────────────────────────────┼─────────────────┤\n",
       "│ max_pooling2d_42 (<span style=\"color: #0087ff; text-decoration-color: #0087ff\">MaxPooling2D</span>)      │ (<span style=\"color: #00d7ff; text-decoration-color: #00d7ff\">None</span>, <span style=\"color: #00af00; text-decoration-color: #00af00\">63</span>, <span style=\"color: #00af00; text-decoration-color: #00af00\">63</span>, <span style=\"color: #00af00; text-decoration-color: #00af00\">64</span>)          │               <span style=\"color: #00af00; text-decoration-color: #00af00\">0</span> │\n",
       "├──────────────────────────────────────┼─────────────────────────────┼─────────────────┤\n",
       "│ conv2d_43 (<span style=\"color: #0087ff; text-decoration-color: #0087ff\">Conv2D</span>)                   │ (<span style=\"color: #00d7ff; text-decoration-color: #00d7ff\">None</span>, <span style=\"color: #00af00; text-decoration-color: #00af00\">61</span>, <span style=\"color: #00af00; text-decoration-color: #00af00\">61</span>, <span style=\"color: #00af00; text-decoration-color: #00af00\">64</span>)          │          <span style=\"color: #00af00; text-decoration-color: #00af00\">36,928</span> │\n",
       "├──────────────────────────────────────┼─────────────────────────────┼─────────────────┤\n",
       "│ max_pooling2d_43 (<span style=\"color: #0087ff; text-decoration-color: #0087ff\">MaxPooling2D</span>)      │ (<span style=\"color: #00d7ff; text-decoration-color: #00d7ff\">None</span>, <span style=\"color: #00af00; text-decoration-color: #00af00\">30</span>, <span style=\"color: #00af00; text-decoration-color: #00af00\">30</span>, <span style=\"color: #00af00; text-decoration-color: #00af00\">64</span>)          │               <span style=\"color: #00af00; text-decoration-color: #00af00\">0</span> │\n",
       "├──────────────────────────────────────┼─────────────────────────────┼─────────────────┤\n",
       "│ conv2d_44 (<span style=\"color: #0087ff; text-decoration-color: #0087ff\">Conv2D</span>)                   │ (<span style=\"color: #00d7ff; text-decoration-color: #00d7ff\">None</span>, <span style=\"color: #00af00; text-decoration-color: #00af00\">28</span>, <span style=\"color: #00af00; text-decoration-color: #00af00\">28</span>, <span style=\"color: #00af00; text-decoration-color: #00af00\">128</span>)         │          <span style=\"color: #00af00; text-decoration-color: #00af00\">73,856</span> │\n",
       "├──────────────────────────────────────┼─────────────────────────────┼─────────────────┤\n",
       "│ max_pooling2d_44 (<span style=\"color: #0087ff; text-decoration-color: #0087ff\">MaxPooling2D</span>)      │ (<span style=\"color: #00d7ff; text-decoration-color: #00d7ff\">None</span>, <span style=\"color: #00af00; text-decoration-color: #00af00\">14</span>, <span style=\"color: #00af00; text-decoration-color: #00af00\">14</span>, <span style=\"color: #00af00; text-decoration-color: #00af00\">128</span>)         │               <span style=\"color: #00af00; text-decoration-color: #00af00\">0</span> │\n",
       "├──────────────────────────────────────┼─────────────────────────────┼─────────────────┤\n",
       "│ flatten_14 (<span style=\"color: #0087ff; text-decoration-color: #0087ff\">Flatten</span>)                 │ (<span style=\"color: #00d7ff; text-decoration-color: #00d7ff\">None</span>, <span style=\"color: #00af00; text-decoration-color: #00af00\">25088</span>)               │               <span style=\"color: #00af00; text-decoration-color: #00af00\">0</span> │\n",
       "├──────────────────────────────────────┼─────────────────────────────┼─────────────────┤\n",
       "│ dropout_4 (<span style=\"color: #0087ff; text-decoration-color: #0087ff\">Dropout</span>)                  │ (<span style=\"color: #00d7ff; text-decoration-color: #00d7ff\">None</span>, <span style=\"color: #00af00; text-decoration-color: #00af00\">25088</span>)               │               <span style=\"color: #00af00; text-decoration-color: #00af00\">0</span> │\n",
       "├──────────────────────────────────────┼─────────────────────────────┼─────────────────┤\n",
       "│ dense_31 (<span style=\"color: #0087ff; text-decoration-color: #0087ff\">Dense</span>)                     │ (<span style=\"color: #00d7ff; text-decoration-color: #00d7ff\">None</span>, <span style=\"color: #00af00; text-decoration-color: #00af00\">512</span>)                 │      <span style=\"color: #00af00; text-decoration-color: #00af00\">12,845,568</span> │\n",
       "├──────────────────────────────────────┼─────────────────────────────┼─────────────────┤\n",
       "│ dense_32 (<span style=\"color: #0087ff; text-decoration-color: #0087ff\">Dense</span>)                     │ (<span style=\"color: #00d7ff; text-decoration-color: #00d7ff\">None</span>, <span style=\"color: #00af00; text-decoration-color: #00af00\">512</span>)                 │         <span style=\"color: #00af00; text-decoration-color: #00af00\">262,656</span> │\n",
       "├──────────────────────────────────────┼─────────────────────────────┼─────────────────┤\n",
       "│ dropout_5 (<span style=\"color: #0087ff; text-decoration-color: #0087ff\">Dropout</span>)                  │ (<span style=\"color: #00d7ff; text-decoration-color: #00d7ff\">None</span>, <span style=\"color: #00af00; text-decoration-color: #00af00\">512</span>)                 │               <span style=\"color: #00af00; text-decoration-color: #00af00\">0</span> │\n",
       "├──────────────────────────────────────┼─────────────────────────────┼─────────────────┤\n",
       "│ dense_33 (<span style=\"color: #0087ff; text-decoration-color: #0087ff\">Dense</span>)                     │ (<span style=\"color: #00d7ff; text-decoration-color: #00d7ff\">None</span>, <span style=\"color: #00af00; text-decoration-color: #00af00\">3</span>)                   │           <span style=\"color: #00af00; text-decoration-color: #00af00\">1,539</span> │\n",
       "└──────────────────────────────────────┴─────────────────────────────┴─────────────────┘\n",
       "</pre>\n"
      ],
      "text/plain": [
       "┏━━━━━━━━━━━━━━━━━━━━━━━━━━━━━━━━━━━━━━┳━━━━━━━━━━━━━━━━━━━━━━━━━━━━━┳━━━━━━━━━━━━━━━━━┓\n",
       "┃\u001b[1m \u001b[0m\u001b[1mLayer (type)                        \u001b[0m\u001b[1m \u001b[0m┃\u001b[1m \u001b[0m\u001b[1mOutput Shape               \u001b[0m\u001b[1m \u001b[0m┃\u001b[1m \u001b[0m\u001b[1m        Param #\u001b[0m\u001b[1m \u001b[0m┃\n",
       "┡━━━━━━━━━━━━━━━━━━━━━━━━━━━━━━━━━━━━━━╇━━━━━━━━━━━━━━━━━━━━━━━━━━━━━╇━━━━━━━━━━━━━━━━━┩\n",
       "│ conv2d_42 (\u001b[38;5;33mConv2D\u001b[0m)                   │ (\u001b[38;5;45mNone\u001b[0m, \u001b[38;5;34m126\u001b[0m, \u001b[38;5;34m126\u001b[0m, \u001b[38;5;34m64\u001b[0m)        │           \u001b[38;5;34m1,792\u001b[0m │\n",
       "├──────────────────────────────────────┼─────────────────────────────┼─────────────────┤\n",
       "│ max_pooling2d_42 (\u001b[38;5;33mMaxPooling2D\u001b[0m)      │ (\u001b[38;5;45mNone\u001b[0m, \u001b[38;5;34m63\u001b[0m, \u001b[38;5;34m63\u001b[0m, \u001b[38;5;34m64\u001b[0m)          │               \u001b[38;5;34m0\u001b[0m │\n",
       "├──────────────────────────────────────┼─────────────────────────────┼─────────────────┤\n",
       "│ conv2d_43 (\u001b[38;5;33mConv2D\u001b[0m)                   │ (\u001b[38;5;45mNone\u001b[0m, \u001b[38;5;34m61\u001b[0m, \u001b[38;5;34m61\u001b[0m, \u001b[38;5;34m64\u001b[0m)          │          \u001b[38;5;34m36,928\u001b[0m │\n",
       "├──────────────────────────────────────┼─────────────────────────────┼─────────────────┤\n",
       "│ max_pooling2d_43 (\u001b[38;5;33mMaxPooling2D\u001b[0m)      │ (\u001b[38;5;45mNone\u001b[0m, \u001b[38;5;34m30\u001b[0m, \u001b[38;5;34m30\u001b[0m, \u001b[38;5;34m64\u001b[0m)          │               \u001b[38;5;34m0\u001b[0m │\n",
       "├──────────────────────────────────────┼─────────────────────────────┼─────────────────┤\n",
       "│ conv2d_44 (\u001b[38;5;33mConv2D\u001b[0m)                   │ (\u001b[38;5;45mNone\u001b[0m, \u001b[38;5;34m28\u001b[0m, \u001b[38;5;34m28\u001b[0m, \u001b[38;5;34m128\u001b[0m)         │          \u001b[38;5;34m73,856\u001b[0m │\n",
       "├──────────────────────────────────────┼─────────────────────────────┼─────────────────┤\n",
       "│ max_pooling2d_44 (\u001b[38;5;33mMaxPooling2D\u001b[0m)      │ (\u001b[38;5;45mNone\u001b[0m, \u001b[38;5;34m14\u001b[0m, \u001b[38;5;34m14\u001b[0m, \u001b[38;5;34m128\u001b[0m)         │               \u001b[38;5;34m0\u001b[0m │\n",
       "├──────────────────────────────────────┼─────────────────────────────┼─────────────────┤\n",
       "│ flatten_14 (\u001b[38;5;33mFlatten\u001b[0m)                 │ (\u001b[38;5;45mNone\u001b[0m, \u001b[38;5;34m25088\u001b[0m)               │               \u001b[38;5;34m0\u001b[0m │\n",
       "├──────────────────────────────────────┼─────────────────────────────┼─────────────────┤\n",
       "│ dropout_4 (\u001b[38;5;33mDropout\u001b[0m)                  │ (\u001b[38;5;45mNone\u001b[0m, \u001b[38;5;34m25088\u001b[0m)               │               \u001b[38;5;34m0\u001b[0m │\n",
       "├──────────────────────────────────────┼─────────────────────────────┼─────────────────┤\n",
       "│ dense_31 (\u001b[38;5;33mDense\u001b[0m)                     │ (\u001b[38;5;45mNone\u001b[0m, \u001b[38;5;34m512\u001b[0m)                 │      \u001b[38;5;34m12,845,568\u001b[0m │\n",
       "├──────────────────────────────────────┼─────────────────────────────┼─────────────────┤\n",
       "│ dense_32 (\u001b[38;5;33mDense\u001b[0m)                     │ (\u001b[38;5;45mNone\u001b[0m, \u001b[38;5;34m512\u001b[0m)                 │         \u001b[38;5;34m262,656\u001b[0m │\n",
       "├──────────────────────────────────────┼─────────────────────────────┼─────────────────┤\n",
       "│ dropout_5 (\u001b[38;5;33mDropout\u001b[0m)                  │ (\u001b[38;5;45mNone\u001b[0m, \u001b[38;5;34m512\u001b[0m)                 │               \u001b[38;5;34m0\u001b[0m │\n",
       "├──────────────────────────────────────┼─────────────────────────────┼─────────────────┤\n",
       "│ dense_33 (\u001b[38;5;33mDense\u001b[0m)                     │ (\u001b[38;5;45mNone\u001b[0m, \u001b[38;5;34m3\u001b[0m)                   │           \u001b[38;5;34m1,539\u001b[0m │\n",
       "└──────────────────────────────────────┴─────────────────────────────┴─────────────────┘\n"
      ]
     },
     "metadata": {},
     "output_type": "display_data"
    },
    {
     "data": {
      "text/html": [
       "<pre style=\"white-space:pre;overflow-x:auto;line-height:normal;font-family:Menlo,'DejaVu Sans Mono',consolas,'Courier New',monospace\"><span style=\"font-weight: bold\"> Total params: </span><span style=\"color: #00af00; text-decoration-color: #00af00\">39,667,019</span> (151.32 MB)\n",
       "</pre>\n"
      ],
      "text/plain": [
       "\u001b[1m Total params: \u001b[0m\u001b[38;5;34m39,667,019\u001b[0m (151.32 MB)\n"
      ]
     },
     "metadata": {},
     "output_type": "display_data"
    },
    {
     "data": {
      "text/html": [
       "<pre style=\"white-space:pre;overflow-x:auto;line-height:normal;font-family:Menlo,'DejaVu Sans Mono',consolas,'Courier New',monospace\"><span style=\"font-weight: bold\"> Trainable params: </span><span style=\"color: #00af00; text-decoration-color: #00af00\">13,222,339</span> (50.44 MB)\n",
       "</pre>\n"
      ],
      "text/plain": [
       "\u001b[1m Trainable params: \u001b[0m\u001b[38;5;34m13,222,339\u001b[0m (50.44 MB)\n"
      ]
     },
     "metadata": {},
     "output_type": "display_data"
    },
    {
     "data": {
      "text/html": [
       "<pre style=\"white-space:pre;overflow-x:auto;line-height:normal;font-family:Menlo,'DejaVu Sans Mono',consolas,'Courier New',monospace\"><span style=\"font-weight: bold\"> Non-trainable params: </span><span style=\"color: #00af00; text-decoration-color: #00af00\">0</span> (0.00 B)\n",
       "</pre>\n"
      ],
      "text/plain": [
       "\u001b[1m Non-trainable params: \u001b[0m\u001b[38;5;34m0\u001b[0m (0.00 B)\n"
      ]
     },
     "metadata": {},
     "output_type": "display_data"
    },
    {
     "data": {
      "text/html": [
       "<pre style=\"white-space:pre;overflow-x:auto;line-height:normal;font-family:Menlo,'DejaVu Sans Mono',consolas,'Courier New',monospace\"><span style=\"font-weight: bold\"> Optimizer params: </span><span style=\"color: #00af00; text-decoration-color: #00af00\">26,444,680</span> (100.88 MB)\n",
       "</pre>\n"
      ],
      "text/plain": [
       "\u001b[1m Optimizer params: \u001b[0m\u001b[38;5;34m26,444,680\u001b[0m (100.88 MB)\n"
      ]
     },
     "metadata": {},
     "output_type": "display_data"
    }
   ],
   "source": [
    "model = tf.keras.models.load_model('rps1.keras')\n",
    "model.summary()"
   ]
  },
  {
   "cell_type": "code",
   "execution_count": 16,
   "metadata": {},
   "outputs": [],
   "source": [
    "from ipywebrtc import CameraStream, ImageRecorder\n",
    "camera = CameraStream.facing_user(audio=False)\n",
    "\n",
    "recorder = ImageRecorder(stream=camera, filename='test')\n",
    "\n",
    "from PIL import Image\n",
    "import io\n",
    "import numpy as np"
   ]
  },
  {
   "cell_type": "code",
   "execution_count": 17,
   "metadata": {},
   "outputs": [
    {
     "data": {
      "application/vnd.jupyter.widget-view+json": {
       "model_id": "e4bb7e25e5a34daf88f8d247140eb66e",
       "version_major": 2,
       "version_minor": 0
      },
      "image/png": "[encoded data removed]",
      "text/html": [
       "\n",
       "            <div style=\"display: inline-block;\">\n",
       "                <div class=\"jupyter-widgets widget-label\" style=\"text-align: center;\">\n",
       "                    Figure\n",
       "                </div>\n",
       "                <img src='data:image/png;base64,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' width=1000.0/>\n",
       "            </div>\n",
       "        "
      ],
      "text/plain": [
       "Canvas(toolbar=Toolbar(toolitems=[('Home', 'Reset original view', 'home', 'home'), ('Back', 'Back to previous …"
      ]
     },
     "metadata": {},
     "output_type": "display_data"
    }
   ],
   "source": [
    "import ipywidgets as w\n",
    "import matplotlib.pyplot as plt\n",
    "import seaborn as sns\n",
    "import pandas as pd\n",
    "import time\n",
    "%matplotlib widget\n",
    "fig, (ax1, ax2) = plt.subplots(1,2,figsize=(10, 4))\n",
    "l = w.Label(\"Hello There\")\n",
    "img_disp = w.Image(format='png')\n",
    "def pred2():\n",
    "    time.sleep(0.5)\n",
    "    img = np.array(Image.open(io.BytesIO(recorder.image.value)).resize((128,128)))[:,:,:3]/255\n",
    "    ax1.clear()\n",
    "    ax1.imshow(img)\n",
    "    pred = model(np.stack([img]))\n",
    "    df = pd.DataFrame(pred.numpy(), columns=[\"Rock\", \"Paper\", \"Scissors\"])\n",
    "    ax2.clear()\n",
    "    sns.barplot(df, ax=ax2)\n",
    "    i = tf.argmax(pred, 1).numpy()[0]\n",
    "    v = df.columns[i]\n",
    "    l.value = v\n",
    "    return v"
   ]
  },
  {
   "cell_type": "code",
   "execution_count": 18,
   "metadata": {},
   "outputs": [
    {
     "data": {
      "application/vnd.jupyter.widget-view+json": {
       "model_id": "736b57bd717c4ffa9139985b1e38f143",
       "version_major": 2,
       "version_minor": 0
      },
      "text/plain": [
       "VBox(children=(Button(description='Click to snap picture', style=ButtonStyle()), Label(value='Hello There'), C…"
      ]
     },
     "execution_count": 18,
     "metadata": {},
     "output_type": "execute_result"
    }
   ],
   "source": [
    "from threading import Thread\n",
    "b = w.Button(description='Click to snap picture')\n",
    "def click(_):\n",
    "    recorder.recording=True\n",
    "    Thread(target=pred2).start()\n",
    "b.on_click(click)\n",
    "# display(fig)\n",
    "w.VBox([b, l, camera])"
   ]
  },
  {
   "cell_type": "code",
   "execution_count": null,
   "metadata": {},
   "outputs": [],
   "source": []
  }
 ],
 "metadata": {
  "kernelspec": {
   "display_name": "Python 3 (ipykernel)",
   "language": "python",
   "name": "python3"
  },
  "language_info": {
   "codemirror_mode": {
    "name": "ipython",
    "version": 3
   },
   "file_extension": ".py",
   "mimetype": "text/x-python",
   "name": "python",
   "nbconvert_exporter": "python",
   "pygments_lexer": "ipython3",
   "version": "3.11.5"
  }
 },
 "nbformat": 4,
 "nbformat_minor": 4
}
